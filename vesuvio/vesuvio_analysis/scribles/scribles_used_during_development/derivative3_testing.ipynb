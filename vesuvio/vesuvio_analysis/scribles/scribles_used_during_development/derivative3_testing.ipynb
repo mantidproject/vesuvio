{
 "cells": [
  {
   "cell_type": "code",
   "execution_count": 20,
   "id": "709c0758",
   "metadata": {},
   "outputs": [
    {
     "name": "stdout",
     "output_type": "stream",
     "text": [
      "[ 0  0  4  6  8 10 12 14 16 18  0  0]\n",
      "roll time:  0.3899204730987549\n",
      "[ 0.  0.  4.  6.  8. 10. 12. 14. 16. 18.  0.  0.]\n",
      "slice time: 0.024933\n",
      "[[ 360  360  360  360  360 -240 -240 -240 -240 -240 -240 -240 -240 -240 -240 -240 -240 -240 -240 -240  360  360  360  360  360]\n",
      " [ 360  360  360  360  360 -240 -240 -240 -240 -240 -240 -240 -240 -240 -240 -240 -240 -240 -240 -240  360  360  360  360  360]\n",
      " [ 360  360  360  360  360 -240 -240 -240 -240 -240 -240 -240 -240 -240 -240 -240 -240 -240 -240 -240  360  360  360  360  360]\n",
      " [ 360  360  360  360  360 -240 -240 -240 -240 -240 -240 -240 -240 -240 -240 -240 -240 -240 -240 -240  360  360  360  360  360]]\n",
      "[[-240 -240 -240 -240 -240 -240 -240 -240 -240 -240 -240 -240 -240]\n",
      " [-240 -240 -240 -240 -240 -240 -240 -240 -240 -240 -240 -240 -240]\n",
      " [-240 -240 -240 -240 -240 -240 -240 -240 -240 -240 -240 -240 -240]\n",
      " [-240 -240 -240 -240 -240 -240 -240 -240 -240 -240 -240 -240 -240]]\n"
     ]
    }
   ],
   "source": [
    "import numpy as np\n",
    "import time\n",
    "\n",
    "A = np.arange(12)\n",
    "\n",
    "start = time.time()\n",
    "for i in range(10000):\n",
    "    B = np.roll(A, 2) + np.roll(A, -2)\n",
    "    B[:2], B[-2:] = np.zeros(2), np.zeros(2)\n",
    "print(B)\n",
    "end = time.time()\n",
    "print(\"roll time: \", end-start)\n",
    "\n",
    "\n",
    "start = time.time()\n",
    "for i in range(10000):\n",
    "    B = np.zeros(12)\n",
    "    B[2:-2] = A[4:] + A[:-4]\n",
    "print(B)\n",
    "end = time.time()\n",
    "print(f\"slice time: {end-start:0.6f}\")\n",
    "\n",
    "\n",
    "A = np.arange(100).reshape(4,25)\n",
    "B = -24*np.roll(A, -5, 1) + 24*np.roll(A, 5, 1)\n",
    "C = (-A[:, 11:-1] + A[:, 1:-11])*24\n",
    "print(B)\n",
    "print(C)\n",
    "\n",
    "# fun = np.arange(100).reshape(4,25)\n",
    "# D = - np.roll(fun,-6,1) + 24*np.roll(fun,-5,1) - 192*np.roll(fun,-4,1) + np.roll(fun,+6,1) - 24*np.roll(fun,+5,1) + 192*np.roll(fun,+4,1)\n",
    "# E = (-np.roll(fun,-6,1)+ np.roll(fun,+6,1)) +\\\n",
    "# (np.roll(fun,-5,1) -np.roll(fun,+5,1))*24 +\\\n",
    "# (-np.roll(fun,-4,1) + np.roll(fun,4,1))*192\n",
    "\n",
    "\n",
    "#print(D, E)\n",
    "   \n",
    "\n",
    "#roll can be ten times more time consuming!!!\n",
    "#so it is worth to change derivative function!"
   ]
  },
  {
   "cell_type": "code",
   "execution_count": 3,
   "id": "673b6d7b",
   "metadata": {},
   "outputs": [
    {
     "name": "stdout",
     "output_type": "stream",
     "text": [
      "The two functions give the same result!\n"
     ]
    }
   ],
   "source": [
    "import numpy as np\n",
    "np.set_printoptions(suppress=True, precision=4, linewidth= 150 )\n",
    "\n",
    "def dev3(x, fun):      #this is the function resposible for most of the computational time (currently about a quarter of tot time)\n",
    "    \"\"\"Numerical approximation for the third derivative\"\"\"                     #axis=1 because it's roling 2D array along rows\n",
    "    #x, fun, derivative = np.array(x), np.array(fun), np.zeros(fun.shape)\n",
    "    derivative = - np.roll(fun,-6,1) + 24*np.roll(fun,-5,1) - 192*np.roll(fun,-4,1) + 488*np.roll(fun,-3,1) + 387*np.roll(fun,-2,1) - 1584*np.roll(fun,-1,1) \\\n",
    "                 + np.roll(fun,+6,1) - 24*np.roll(fun,+5,1) + 192*np.roll(fun,+4,1) - 488*np.roll(fun,+3,1) - 387*np.roll(fun,+2,1) + 1584*np.roll(fun,+1,1)\n",
    "    derivative /= np.power(np.roll(x,-1,1) - x, 3) \n",
    "    derivative /= 12**3\n",
    "    derivative[:,:6], derivative[:,-6:] = np.zeros((len(x),6)), np.zeros((len(x),6))  #need to correct for beggining and end of array because of the rolls\n",
    "    return derivative\n",
    "\n",
    "def new_dev3(x, fun):\n",
    "    \n",
    "    k6 = ( - fun[:, 12:  ] + fun[:,  :-12] ) * 1\n",
    "    k5 = ( + fun[:, 11:-1] - fun[:, 1:-11] ) * 24\n",
    "    k4 = ( - fun[:, 10:-2] + fun[:, 2:-10] ) * 192\n",
    "    k3 = ( + fun[:,  9:-3] - fun[:, 3:-9 ] ) * 488\n",
    "    k2 = ( + fun[:,  8:-4] - fun[:, 4:-8 ] ) * 387\n",
    "    k1 = ( - fun[:,  7:-5] + fun[:, 5:-7 ] ) * 1584\n",
    "    \n",
    "    dev = k1 + k2 + k3 + k4 + k5 + k6\n",
    "    dev /= np.power( x[:, 7:-5] - x[:, 6:-6], 3)\n",
    "    dev /= 12**3\n",
    "    \n",
    "    derivative = np.zeros(fun.shape)\n",
    "    derivative[:, 6:-6] = dev                   #need to pad with zeros left and right to return array with same shape\n",
    "    return derivative\n",
    "    \n",
    "    \n",
    "def test_dev(x, fun):\n",
    "    \n",
    "    res1 = dev3(x, fun)\n",
    "    res2 = new_dev3(x, fun)\n",
    "    \n",
    "    if np.allclose(res1, res2):\n",
    "        print(\"The two functions give the same result!\")\n",
    "    else:\n",
    "        print(\"Something is wrong, functions behave differently!\")\n",
    "        print(res1, \"\\n\", res2)\n",
    "        \n",
    "A = np.arange(-50, 50, dtype=\"float\").reshape((4,25))\n",
    "B = A**4 + 3*A**3 + 5*A**2 + 8*A + 13\n",
    "#print(A[:, :10], B[:, :10])\n",
    "test_dev(A, B)"
   ]
  },
  {
   "cell_type": "code",
   "execution_count": 4,
   "id": "5b8ca73e",
   "metadata": {},
   "outputs": [
    {
     "name": "stdout",
     "output_type": "stream",
     "text": [
      "[0. 0. 0. 0. 0. 0. 6. 6. 6. 6. 6. 6. 6. 6. 0. 0. 0. 0. 0. 0.]\n"
     ]
    }
   ],
   "source": [
    "def edited_fun_derivative3(x, fun):\n",
    "    \"\"\"Numerical approximation for the third derivative\"\"\"   \n",
    "    x, fun, derivative = np.array(x), np.array(fun), np.zeros(len(fun))\n",
    "    derivative += - np.roll(fun,-6) + 24*np.roll(fun,-5) - 192*np.roll(fun,-4) + 488*np.roll(fun,-3) + 387*np.roll(fun,-2) - 1584*np.roll(fun,-1)\n",
    "    derivative += + np.roll(fun,+6) - 24*np.roll(fun,+5) + 192*np.roll(fun,+4) - 488*np.roll(fun,+3) - 387*np.roll(fun,+2) + 1584*np.roll(fun,+1)\n",
    "    derivative /= np.power(np.roll(x,-1) - x, 3)\n",
    "    derivative /= 12**3\n",
    "    derivative[:6], derivative[-6:] = np.zeros(6), np.zeros(6)  #need to correct for beggining and end of array\n",
    "    return derivative\n",
    "    \n",
    "def fun(x):\n",
    "    return np.power(x, 3) #+ 2*np.power(x, 2) + 3*np.power(x, 4)\n",
    "    \n",
    "x = range(-10, 10)\n",
    "fun = fun(x)\n",
    "print(edited_fun_derivative3(x, fun))"
   ]
  },
  {
   "cell_type": "code",
   "execution_count": 4,
   "id": "afc2f380",
   "metadata": {},
   "outputs": [
    {
     "name": "stdout",
     "output_type": "stream",
     "text": [
      "[[ 2  0  1]\n",
      " [ 5  3  4]\n",
      " [ 8  6  7]\n",
      " [11  9 10]]\n",
      "[[ 0  3  6  9]\n",
      " [ 1  4  7 10]\n",
      " [ 2  5  8 11]]\n"
     ]
    }
   ],
   "source": [
    "import numpy as np\n",
    "\n",
    "C = np.arange(12).reshape((4,3))\n",
    "print(np.roll(C, 1, 1))\n",
    "print(C.T)\n",
    "\n"
   ]
  },
  {
   "cell_type": "code",
   "execution_count": 18,
   "id": "7c33ea3b",
   "metadata": {},
   "outputs": [
    {
     "name": "stdout",
     "output_type": "stream",
     "text": [
      "arrays are not the same!\n",
      "[[[ 0.  1.  2.]\n",
      "  [15. 16. 17.]\n",
      "  [30. 31. 32.]\n",
      "  [45. 46. 47.]]\n",
      "\n",
      " [[ 3.  4.  5.]\n",
      "  [18. 19. 20.]\n",
      "  [33. 34. 35.]\n",
      "  [48. 49. 50.]]\n",
      "\n",
      " [[ 6.  7.  8.]\n",
      "  [21. 22. 23.]\n",
      "  [36. 37. 38.]\n",
      "  [51. 52. 53.]]\n",
      "\n",
      " [[ 9. 10. 11.]\n",
      "  [24. 25. 26.]\n",
      "  [39. 40. 41.]\n",
      "  [54. 55. 56.]]\n",
      "\n",
      " [[12. 13. 14.]\n",
      "  [27. 28. 29.]\n",
      "  [42. 43. 44.]\n",
      "  [57. 58. 59.]]] \n",
      " [[[ 0  1  2]\n",
      "  [15 16 17]\n",
      "  [30 31 32]\n",
      "  [45 46 47]]\n",
      "\n",
      " [[ 3  4  5]\n",
      "  [18 19 20]\n",
      "  [33 34 35]\n",
      "  [48 49 50]]\n",
      "\n",
      " [[ 6  7  8]\n",
      "  [21 22 23]\n",
      "  [36 37 38]\n",
      "  [51 52 53]]\n",
      "\n",
      " [[ 9 10 11]\n",
      "  [24 25 26]\n",
      "  [39 40 41]\n",
      "  [54 55 56]]\n",
      "\n",
      " [[12 13 14]\n",
      "  [27 28 29]\n",
      "  [42 43 44]\n",
      "  [57 58 59]]]\n"
     ]
    }
   ],
   "source": [
    "import numpy as np\n",
    "\n",
    "def reshape_yspace(all_y_spaces):     #starting shape (4, 132, 144)\n",
    "    A = all_y_spaces\n",
    "    reshaped = np.zeros( (len(A[0]), len(A), len(A[0,0])) )\n",
    "    for n in range(len(A[0])):\n",
    "        for i in range(len(A)):\n",
    "            reshaped[n, i, :] = A[i, n, :]\n",
    "    return reshaped\n",
    "\n",
    "def new_reshape(A):\n",
    "    return np.stack(np.split(A, 4, axis=0), axis=2)[0]\n",
    "\n",
    "A = np.arange(60).reshape((4, 5, 3))\n",
    "\n",
    "def test_fun(A):\n",
    "    res1 = reshape_yspace(A)\n",
    "    res2 = new_reshape(A)\n",
    "    \n",
    "    if res1.shape != res2.shape:\n",
    "        print(\"shapes are different!\")\n",
    "        \n",
    "    if ~np.allclose(res1, res2):\n",
    "        print(\"arrays are not the same!\")\n",
    "        print(res1, \"\\n\", res2)\n",
    "        \n",
    "test_fun(A)"
   ]
  }
 ],
 "metadata": {
  "kernelspec": {
   "display_name": "Python 3",
   "language": "python",
   "name": "python3"
  },
  "language_info": {
   "codemirror_mode": {
    "name": "ipython",
    "version": 3
   },
   "file_extension": ".py",
   "mimetype": "text/x-python",
   "name": "python",
   "nbconvert_exporter": "python",
   "pygments_lexer": "ipython3",
   "version": "3.8.3"
  }
 },
 "nbformat": 4,
 "nbformat_minor": 5
}
